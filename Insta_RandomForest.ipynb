{
 "cells": [
  {
   "cell_type": "markdown",
   "id": "18bd8162",
   "metadata": {},
   "source": [
    "# Fake Account Detection\n",
    "\n",
    "Made by:\n",
    "- Francesco Pizzolato\n",
    "- Tommaso Danieli\n",
    "\n",
    "\n"
   ]
  },
  {
   "cell_type": "markdown",
   "id": "d08b1258",
   "metadata": {},
   "source": [
    "# Section 0: Data Frame Creation"
   ]
  },
  {
   "cell_type": "code",
   "execution_count": null,
   "id": "e926bdea",
   "metadata": {},
   "outputs": [],
   "source": [
    "import pandas as pd\n",
    "import os\n",
    "\n",
    "def import_data():\n",
    "    # Percorsi ai file JSON\n",
    "    base_paths = [\n",
    "        \"data/automated-v1.0\",\n",
    "        \"data/fake-v1.0\"\n",
    "    ]\n",
    "\n",
    "    files = {\n",
    "        \"automated\": \"automatedAccountData.json\",\n",
    "        \"nonautomated\": \"nonautomatedAccountData.json\",\n",
    "        \"fake\": \"fakeAccountData.json\",\n",
    "        \"real\": \"realAccountData.json\"\n",
    "    }\n",
    "\n",
    "    # Costruisci i percorsi completi\n",
    "    paths = {\n",
    "        \"automated\": os.path.join(base_paths[0], files[\"automated\"]),\n",
    "        \"nonautomated\": os.path.join(base_paths[0], files[\"nonautomated\"]),\n",
    "        \"fake\": os.path.join(base_paths[1], files[\"fake\"]),\n",
    "        \"real\": os.path.join(base_paths[1], files[\"real\"]),\n",
    "    }\n",
    "\n",
    "    # Leggi i file JSON come DataFrame\n",
    "    df_automated = pd.read_json(paths[\"automated\"])\n",
    "    df_nonautomated = pd.read_json(paths[\"nonautomated\"])\n",
    "    df_fake = pd.read_json(paths[\"fake\"])\n",
    "    df_real = pd.read_json(paths[\"real\"])\n",
    "\n",
    "    # Unisci tutti i DataFrame in uno solo\n",
    "    df_automated = pd.concat([df_automated, df_nonautomated], ignore_index=True)\n",
    "    df_fake = pd.concat([df_fake, df_real], ignore_index=True)\n",
    "\n",
    "    \n",
    "    return df_automated, df_fake"
   ]
  },
  {
   "cell_type": "code",
   "execution_count": 33,
   "id": "a6430a52",
   "metadata": {},
   "outputs": [
    {
     "name": "stdout",
     "output_type": "stream",
     "text": [
      "Number of automated accounts: 1400\n",
      "Number of fake accounts: 1194\n"
     ]
    }
   ],
   "source": [
    "df_automated, df_fake = import_data()\n",
    "\n",
    "print(\"Number of automated accounts:\", len(df_automated))\n",
    "print(\"Number of fake accounts:\", len(df_fake))"
   ]
  },
  {
   "cell_type": "markdown",
   "id": "647fe1ed",
   "metadata": {},
   "source": [
    "# Section 1: Fake Account Detection"
   ]
  },
  {
   "cell_type": "code",
   "execution_count": 31,
   "id": "39140e7f",
   "metadata": {},
   "outputs": [
    {
     "name": "stdout",
     "output_type": "stream",
     "text": [
      "===Feature sample===\n",
      "   userFollowerCount  userFollowingCount  userBiographyLength  userMediaCount  \\\n",
      "0                 25                1937                    0               0   \n",
      "1                324                4122                    0               0   \n",
      "2                 15                 399                    0               0   \n",
      "3                 14                 107                    0               1   \n",
      "4                264                4651                    0               0   \n",
      "\n",
      "   userHasProfilPic  userIsPrivate  usernameDigitCount  usernameLength  \n",
      "0                 1              1                   0              10  \n",
      "1                 1              0                   4              15  \n",
      "2                 0              0                   3              12  \n",
      "3                 1              0                   1              10  \n",
      "4                 1              0                   0              14  \n",
      "\n",
      "===Target sample===\n",
      "0    1\n",
      "1    1\n",
      "2    1\n",
      "3    1\n",
      "4    1\n",
      "Name: isFake, dtype: int64\n"
     ]
    }
   ],
   "source": [
    "from sklearn.ensemble import RandomForestClassifier\n",
    "from sklearn.model_selection import train_test_split\n",
    "\n",
    "# y = colonna target\n",
    "y = df_fake[\"isFake\"]\n",
    "\n",
    "# X = tutte le colonne tranne 'isFake'\n",
    "X = df_fake.drop(\"isFake\", axis=1)\n",
    "\n",
    "print(\"===Feature sample===\")\n",
    "print(X[0:5])\n",
    "\n",
    "print(\"\\n===Target sample===\")\n",
    "print(y[0:5])\n"
   ]
  },
  {
   "cell_type": "code",
   "execution_count": 86,
   "id": "9e20b198",
   "metadata": {},
   "outputs": [],
   "source": [
    "from imblearn.over_sampling import SMOTE, SMOTENC, BorderlineSMOTE, ADASYN\n",
    "\n",
    "# Suddividiamo in training e test set\n",
    "X_train, X_test, y_train, y_test = train_test_split(X, y, test_size=0.2, random_state=2159407, shuffle=True)\n",
    "\n",
    "\n",
    "# Applichiamo SMOTE solo al training set\n",
    "bordersmote = SMOTENC(categorical_features=[4, 5],random_state=65)\n",
    "X_train_res, y_train_res = bordersmote.fit_resample(X_train, y_train)"
   ]
  },
  {
   "cell_type": "markdown",
   "id": "5acc554c",
   "metadata": {},
   "source": [
    "--------------\n",
    "## 1.1 RandomForest implementation"
   ]
  },
  {
   "cell_type": "code",
   "execution_count": null,
   "id": "2cdea698",
   "metadata": {},
   "outputs": [
    {
     "name": "stdout",
     "output_type": "stream",
     "text": [
      "Fitting 10 folds for each of 126 candidates, totalling 1260 fits\n",
      "Best parameters found: {'bootstrap': True, 'max_depth': 8, 'max_features': 'sqrt', 'min_samples_leaf': 2, 'min_samples_split': 2, 'n_estimators': 309}\n",
      "Accuratezza sul test set: 0.97\n",
      "Report completo:\n",
      "              precision    recall  f1-score   support\n",
      "\n",
      "        Real       0.98      0.98      0.98       192\n",
      "        Fake       0.93      0.91      0.92        47\n",
      "\n",
      "    accuracy                           0.97       239\n",
      "   macro avg       0.96      0.95      0.95       239\n",
      "weighted avg       0.97      0.97      0.97       239\n",
      "\n"
     ]
    }
   ],
   "source": [
    "from sklearn.ensemble import RandomForestClassifier\n",
    "from sklearn.model_selection import GridSearchCV, train_test_split\n",
    "from sklearn.metrics import accuracy_score, classification_report\n",
    "\n",
    "\n",
    "# Definizione del modello base\n",
    "rf = RandomForestClassifier(random_state=2159407)\n",
    "\n",
    "# Definizione della griglia dei parametri da ottimizzare\n",
    "param_grid = {\n",
    "    \"n_estimators\": [309, 310, 311, 312, 313, 314, 315],           # numero di alberi\n",
    "    \"max_depth\": [ 8, 9, 10],           # profondità massima degli alberi\n",
    "    \"min_samples_split\": [2],           # minimo numero di campioni per split\n",
    "    \"min_samples_leaf\": [2],             # minimo numero di campioni per foglia\n",
    "    \"max_features\": [\"sqrt\", \"log2\", None],   # numero di feature da considerare per split\n",
    "    \"bootstrap\": [True, False]\n",
    "}\n",
    "\n",
    "# GridSearch con 5-fold cross-validation\n",
    "grid_search = GridSearchCV(\n",
    "    estimator=rf,\n",
    "    param_grid=param_grid,\n",
    "    cv=10,                # 5-fold validation\n",
    "    n_jobs=-1,           # usa tutti i core disponibili\n",
    "    verbose=1,\n",
    "    scoring='f1_macro'   # possiamo usare anche 'f1' se il dataset è sbilanciato\n",
    ")\n",
    "\n",
    "# Fit del GridSearch sui dati di training\n",
    "grid_search.fit(X_train_res, y_train_res)\n",
    "\n",
    "# Parametri ottimali\n",
    "print(\"Best parameters found:\", grid_search.best_params_)\n",
    "\n",
    "# Miglior modello\n",
    "best_rf = grid_search.best_estimator_\n",
    "\n",
    "# Valutazione sul test set\n",
    "y_pred = best_rf.predict(X_test)\n",
    "accuracy = accuracy_score(y_test, y_pred)\n",
    "print(f\"Accuracy on Test Set: {accuracy:.2f}\")\n",
    "print(\"Classification Report:\")\n",
    "print(classification_report(y_test, y_pred, target_names=[\"Real\", \"Fake\"]))"
   ]
  },
  {
   "cell_type": "markdown",
   "id": "ebb8ccd0",
   "metadata": {},
   "source": [
    "------------------------------------------------------------------------------------------------------------------------------------\n",
    "## 1.2 CatBoost implementation"
   ]
  },
  {
   "cell_type": "code",
   "execution_count": 1,
   "id": "2e86bed7",
   "metadata": {},
   "outputs": [
    {
     "ename": "NameError",
     "evalue": "name 'X_train_res' is not defined",
     "output_type": "error",
     "traceback": [
      "\u001b[1;31m---------------------------------------------------------------------------\u001b[0m",
      "\u001b[1;31mNameError\u001b[0m                                 Traceback (most recent call last)",
      "Cell \u001b[1;32mIn[1], line 30\u001b[0m\n\u001b[0;32m     13\u001b[0m cat \u001b[38;5;241m=\u001b[39m CatBoostClassifier(\n\u001b[0;32m     14\u001b[0m     random_state\u001b[38;5;241m=\u001b[39m\u001b[38;5;241m2159407\u001b[39m,\n\u001b[0;32m     15\u001b[0m     eval_metric\u001b[38;5;241m=\u001b[39m\u001b[38;5;124m'\u001b[39m\u001b[38;5;124mTotalF1\u001b[39m\u001b[38;5;124m'\u001b[39m,\n\u001b[0;32m     16\u001b[0m     verbose\u001b[38;5;241m=\u001b[39m\u001b[38;5;241m0\u001b[39m\n\u001b[0;32m     17\u001b[0m )\n\u001b[0;32m     19\u001b[0m search_cat \u001b[38;5;241m=\u001b[39m RandomizedSearchCV(\n\u001b[0;32m     20\u001b[0m     cat,\n\u001b[0;32m     21\u001b[0m     param_distributions\u001b[38;5;241m=\u001b[39mparam_dist_cat,\n\u001b[1;32m   (...)\u001b[0m\n\u001b[0;32m     27\u001b[0m     random_state\u001b[38;5;241m=\u001b[39m\u001b[38;5;241m987\u001b[39m\n\u001b[0;32m     28\u001b[0m )\n\u001b[1;32m---> 30\u001b[0m search_cat\u001b[38;5;241m.\u001b[39mfit(\u001b[43mX_train_res\u001b[49m, y_train_res)\n\u001b[0;32m     31\u001b[0m \u001b[38;5;28mprint\u001b[39m(\u001b[38;5;124m\"\u001b[39m\u001b[38;5;124mBest params (CatBoost):\u001b[39m\u001b[38;5;124m\"\u001b[39m, search_cat\u001b[38;5;241m.\u001b[39mbest_params_)\n",
      "\u001b[1;31mNameError\u001b[0m: name 'X_train_res' is not defined"
     ]
    }
   ],
   "source": [
    "from catboost import CatBoostClassifier\n",
    "from sklearn.model_selection import RandomizedSearchCV\n",
    "from scipy.stats import uniform, randint\n",
    "\n",
    "param_dist_cat = {\n",
    "    'iterations': randint(300, 400),\n",
    "    'depth': randint(5, 12),\n",
    "    'learning_rate': uniform(0.05, 0.13),\n",
    "    'l2_leaf_reg': uniform(6, 8),\n",
    "    'bagging_temperature': uniform(0, 0.08)\n",
    "}\n",
    "\n",
    "cat = CatBoostClassifier(\n",
    "    random_state=2159407,\n",
    "    eval_metric='TotalF1',\n",
    "    verbose=0\n",
    ")\n",
    "\n",
    "search_cat = RandomizedSearchCV(\n",
    "    cat,\n",
    "    param_distributions=param_dist_cat,\n",
    "    n_iter=500,\n",
    "    scoring='f1_macro',\n",
    "    n_jobs=-1,\n",
    "    cv=5,\n",
    "    verbose=1,\n",
    "    random_state=987\n",
    ")\n",
    "\n",
    "search_cat.fit(X_train_res, y_train_res)\n",
    "print(\"Best params (CatBoost):\", search_cat.best_params_)"
   ]
  },
  {
   "cell_type": "code",
   "execution_count": null,
   "id": "dea0d103",
   "metadata": {},
   "outputs": [
    {
     "name": "stdout",
     "output_type": "stream",
     "text": [
      "\n",
      "Classification Report:\n",
      "              precision    recall  f1-score   support\n",
      "\n",
      "           0      0.964     0.990     0.977       192\n",
      "           1      0.952     0.851     0.899        47\n",
      "\n",
      "    accuracy                          0.962       239\n",
      "   macro avg      0.958     0.920     0.938       239\n",
      "weighted avg      0.962     0.962     0.962       239\n",
      "\n",
      "\n",
      "Confusion Matrix:\n",
      " [[190   2]\n",
      " [  7  40]]\n",
      "ROC AUC: 0.9941267730496455\n"
     ]
    },
    {
     "data": {
      "image/png": "[encoded data removed]",
      "text/plain": [
       "<Figure size 640x480 with 1 Axes>"
      ]
     },
     "metadata": {},
     "output_type": "display_data"
    }
   ],
   "source": [
    "from sklearn.metrics import (\n",
    "    accuracy_score,\n",
    "    f1_score,\n",
    "    roc_auc_score,\n",
    "    classification_report,\n",
    "    confusion_matrix\n",
    ")\n",
    "import numpy as np\n",
    "import pandas as pd\n",
    "\n",
    "\n",
    "# Miglior modello CatBoost trovato dal RandomizedSearchCV\n",
    "best_cat = search_cat.best_estimator_\n",
    "\n",
    "# Predizioni\n",
    "y_pred = best_cat.predict(X_test)\n",
    "y_proba = best_cat.predict_proba(X_test)[:, 1] if len(np.unique(y_test)) == 2 else None\n",
    "\n",
    "# Metriche\n",
    "acc = accuracy_score(y_test, y_pred)\n",
    "f1 = f1_score(y_test, y_pred, average='macro')\n",
    "print(\"=== Risultati CatBoost ===\")\n",
    "print(f\"Accuracy:      {acc:.4f}\")\n",
    "print(f\"F1 (macro):    {f1:.4f}\")\n",
    "\n",
    "if y_proba is not None:\n",
    "    auc = roc_auc_score(y_test, y_proba)\n",
    "    print(f\"ROC AUC:       {auc:.4f}\")\n",
    "\n",
    "# Report dettagliato\n",
    "print(\"\\nClassification report:\")\n",
    "print(classification_report(y_test, y_pred))\n",
    "\n",
    "# Matrice di confusione\n",
    "cm = confusion_matrix(y_test, y_pred)\n",
    "cm_df = pd.DataFrame(cm, index=np.unique(y_test), columns=np.unique(y_test))\n",
    "print(\"\\nConfusion matrix:\")\n",
    "print(cm_df)"
   ]
  },
  {
   "cell_type": "markdown",
   "id": "4be35b1f",
   "metadata": {},
   "source": [
    "## Section 2: Automated Account Detection"
   ]
  },
  {
   "cell_type": "markdown",
   "id": "0666b451",
   "metadata": {},
   "source": []
  }
 ],
 "metadata": {
  "kernelspec": {
   "display_name": "instafake",
   "language": "python",
   "name": "python3"
  },
  "language_info": {
   "codemirror_mode": {
    "name": "ipython",
    "version": 3
   },
   "file_extension": ".py",
   "mimetype": "text/x-python",
   "name": "python",
   "nbconvert_exporter": "python",
   "pygments_lexer": "ipython3",
   "version": "3.10.19"
  }
 },
 "nbformat": 4,
 "nbformat_minor": 5
}
